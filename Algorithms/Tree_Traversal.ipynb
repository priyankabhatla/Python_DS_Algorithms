{
  "nbformat": 4,
  "nbformat_minor": 0,
  "metadata": {
    "colab": {
      "name": "Tree_Traversal.ipynb",
      "provenance": []
    },
    "kernelspec": {
      "name": "python3",
      "display_name": "Python 3"
    },
    "language_info": {
      "name": "python"
    }
  },
  "cells": [
    {
      "cell_type": "markdown",
      "metadata": {
        "id": "aZlBfGaSaMrA"
      },
      "source": [
        "# **Tree Traversal**\n",
        "### **Methods**\n",
        "There are 3 ways to traverse a tree\n",
        "1. Pre-order\n",
        "2. Post-order\n",
        "3. In-order\n",
        "\n",
        "Example:\n",
        "```\n",
        "     1\n",
        "   /   \\\n",
        "  2     3\n",
        " / \\   / \\\n",
        "4   5 6   7\n",
        "```\n",
        "\n",
        "\n",
        "### **Pre-order traversal**\n",
        "In pre-order traversal, we start from the root node, visit that node. Then we visit its left child (if the left child is also a non-leaf node then we do the pre-order traversal recursively considering this node as the new root node) and finally the right child (again call pre-order recursively).\n",
        "\n",
        "i.e. Root -> Left -> Right\n",
        "\n",
        "For the above tree, if we perform pre-order traversal, then the nodes would be visited in the following order:\n",
        "\n",
        "1 -> 2 -> 4 -> 5 -> 3 -> 6 -> 7\n",
        "\n",
        "### **Post-order traversal**\n",
        "In post-order traversal, we start from the left sub-tree, visit the left child (call post-order recursively on this node). Then we visit the right subtree, i.e visit the right-child (call post-order recursively on this node) of the original parent node and finally the parent node.\n",
        "\n",
        "i.e. Left -> Right -> Root\n",
        "\n",
        "For the above tree, if we perform post-order traversal, then the nodes would be visited in the following order:\n",
        "\n",
        "4 -> 5 -> 2 -> 6 -> 7 -> 3 -> 1\n",
        "\n",
        "### **In-order traversal**\n",
        "In in-order traversal, we start from the left sub-tree, visit the left child (call in-order recursively on this node). Then we visit the parent node, and finall we visit the right subtree, i.e visit the right-child (call in-order recursively on this node).\n",
        "\n",
        "i.e. Left -> Root -> Right\n",
        "\n",
        "If the binary tree is a binary search tree, the in-order traversal would visit the nodes in ascending order, i.e. it would return a sorted list\n",
        "\n",
        "For the above tree, if we perform in-order traversal, then the nodes would be visited in the following order:\n",
        "\n",
        "4 -> 2 -> 5 -> 1 -> 6 -> 3 -> 7\n",
        "\n"
      ]
    },
    {
      "cell_type": "code",
      "metadata": {
        "colab": {
          "base_uri": "https://localhost:8080/"
        },
        "id": "xv41TIfzaLTU",
        "outputId": "78c2c61c-9b37-4716-bd2f-5b7c5ce52944"
      },
      "source": [
        "class Node:\n",
        "  def __init__(self, data):\n",
        "    self.left = None\n",
        "    self.right = None\n",
        "    self.data = data\n",
        "\n",
        "\n",
        "def pre_order_traversal(root):\n",
        "  if(root == None):\n",
        "    return\n",
        "  print(str(root.data), end=\" -> \")\n",
        "  pre_order_traversal(root.left)\n",
        "  pre_order_traversal(root.right)\n",
        "\n",
        "\n",
        "def post_order_traversal(root):\n",
        "  if(root == None):\n",
        "    return\n",
        "  post_order_traversal(root.left)\n",
        "  post_order_traversal(root.right)\n",
        "  print(str(root.data), end=\" -> \")\n",
        "\n",
        "\n",
        "def in_order_traversal(root):\n",
        "  if(root == None):\n",
        "    return\n",
        "  in_order_traversal(root.left)\n",
        "  print(str(root.data), end=\" -> \")\n",
        "  in_order_traversal(root.right)\n",
        "\n",
        "\n",
        "root = Node(1)\n",
        "\n",
        "root.left = Node(2)\n",
        "root.left.left = Node(4)\n",
        "root.left.right = Node(5)\n",
        "root.right = Node(3)\n",
        "root.right.left = Node(6)\n",
        "root.right.right = Node(7)\n",
        "\n",
        "#      1\n",
        "#    /   \\\n",
        "#   2     3\n",
        "#  / \\   / \\\n",
        "# 4   5 6   7\n",
        "\n",
        "print(\"Pre-order traversal\")\n",
        "pre_order_traversal(root)\n",
        "\n",
        "print(\"\\n\\nPost-order traversal\")\n",
        "post_order_traversal(root)\n",
        "\n",
        "print(\"\\n\\nIn-order traversal\")\n",
        "in_order_traversal(root)\n",
        "\n"
      ],
      "execution_count": 1,
      "outputs": [
        {
          "output_type": "stream",
          "name": "stdout",
          "text": [
            "Pre-order traversal\n",
            "1 -> 2 -> 4 -> 5 -> 3 -> 6 -> 7 -> \n",
            "\n",
            "Post-order traversal\n",
            "4 -> 5 -> 2 -> 6 -> 7 -> 3 -> 1 -> \n",
            "\n",
            "In-order traversal\n",
            "4 -> 2 -> 5 -> 1 -> 6 -> 3 -> 7 -> "
          ]
        }
      ]
    }
  ]
}